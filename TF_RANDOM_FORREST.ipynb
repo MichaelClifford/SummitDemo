{
 "cells": [
  {
   "cell_type": "code",
   "execution_count": 1,
   "metadata": {},
   "outputs": [],
   "source": [
    "%load_ext autoreload\n",
    "%autoreload 2\n",
    "%matplotlib inline\n",
    "\n",
    "import pandas as pd\n",
    "import numpy as np\n",
    "import scipy\n",
    "import matplotlib.pylab as plt\n",
    "import seaborn as sns\n",
    "import ast\n",
    "import glob\n",
    "\n",
    "from sklearn.linear_model import LogisticRegression\n",
    "from sklearn.ensemble import RandomForestClassifier\n",
    "from sklearn.ensemble import ExtraTreesClassifier\n",
    "from sklearn.model_selection import train_test_split\n",
    "from sklearn.metrics import confusion_matrix\n",
    "from sklearn.preprocessing import LabelEncoder, OneHotEncoder\n",
    "\n",
    "# Set random seed\n",
    "np.random.seed(314)"
   ]
  },
  {
   "cell_type": "code",
   "execution_count": 2,
   "metadata": {},
   "outputs": [
    {
     "data": {
      "text/plain": [
       "['../HMPDataset/Walk_',\n",
       " '../HMPDataset/Use_telephone',\n",
       " '../HMPDataset/Eat_meat',\n",
       " '../HMPDataset/Drink_glass',\n",
       " '../HMPDataset/Climb_stairs',\n",
       " '../HMPDataset/Brush_teeth',\n",
       " '../HMPDataset/Eat_soup',\n",
       " '../HMPDataset/Sitdown_chair',\n",
       " '../HMPDataset/Liedown_bed',\n",
       " '../HMPDataset/Comb_hair',\n",
       " '../HMPDataset/Standup_chair',\n",
       " '../HMPDataset/Getup_bed',\n",
       " '../HMPDataset/Pour_water',\n",
       " '../HMPDataset/Descend_stairs']"
      ]
     },
     "execution_count": 2,
     "metadata": {},
     "output_type": "execute_result"
    }
   ],
   "source": [
    "IMAGE_LOC = '../HMPDataset/'\n",
    "activity_list = [i for i in glob.glob(f'{IMAGE_LOC}/*') if i.find('_') > 0 and \"MODEL\" not in i]\n",
    "#activity_list = [i for i in glob.glob(f'{IMAGE_LOC}/*') if (\"Walk_\" in i or \"Standup_chair\" in i or \"Drink_glass\" in i) and \"MODEL\" not in i]\n",
    "activity_list"
   ]
  },
  {
   "cell_type": "code",
   "execution_count": 3,
   "metadata": {},
   "outputs": [],
   "source": [
    "def read_data(activity_list):\n",
    "    '''Read files in each activity in activity_list\n",
    "    Returns dict: key = activity name -> array of numpy arrays of shape (n_observations, 3) = (ax,ay,az)\n",
    "    '''\n",
    "    data = {}\n",
    "    \n",
    "    for t in activity_list: #loop over each activity type\n",
    "        activity_name = t.split('/')[-1]\n",
    "        data[activity_name] = []\n",
    "    \n",
    "        filenames = glob.glob(t + '/*')\n",
    "        \n",
    "        for f in filenames: #loop over every participants time-series\n",
    "            df = pd.read_csv(f, sep=' ', header=None)\n",
    "            \n",
    "            #ts = np.sqrt((df**2).sum(axis=1)) #magnitude of acceleration vector\n",
    "            \n",
    "            data[activity_name].append(np.array(df))\n",
    "    \n",
    "    return data\n",
    "\n",
    "def get_acceleration_timeseries(data):\n",
    "    '''Input: data returned by read_data\n",
    "    Output: dictionary mapping activity name -> list of single time-series of acceleration magnitudes\n",
    "    '''\n",
    "    \n",
    "    data_ts = {}\n",
    "    \n",
    "    for k in data:\n",
    "        data_ts[k] = []\n",
    "        \n",
    "        for sample in data[k]: #(ax, ay, az)\n",
    "            data_ts[k].append(np.sqrt((sample**2).sum(axis=1)))\n",
    "    \n",
    "    return data_ts"
   ]
  },
  {
   "cell_type": "code",
   "execution_count": 4,
   "metadata": {},
   "outputs": [],
   "source": [
    "data_ts = read_data(activity_list)\n",
    "data_ts = get_acceleration_timeseries(data_ts)"
   ]
  },
  {
   "cell_type": "code",
   "execution_count": 5,
   "metadata": {},
   "outputs": [],
   "source": [
    "def featurize_stats(ts, bins):\n",
    "    #basic statistical measures\n",
    "    mean = np.mean(ts)\n",
    "    median = np.median(ts)\n",
    "    std = np.std(ts)\n",
    "    length = len(ts)\n",
    "    kurtosis = scipy.stats.kurtosis(ts)\n",
    "    \n",
    "    n,b,p = plt.hist(ts, bins=bins)\n",
    "    n = np.array(n)/float(np.sum(n)) #normalize i.e. fraction of entries in each bin\n",
    "    \n",
    "    if median == 0: \n",
    "        features = {'mean_over_median': 0, #dimensionless            \n",
    "                    'std_over_median': 0, #dimensionless            \n",
    "                    'length': length,\n",
    "                    'kurtosis': kurtosis, #already dimensionless by definition\n",
    "                   }\n",
    "        \n",
    "    else: \n",
    "        features = {'mean_over_median': mean/median, #dimensionless            \n",
    "            'std_over_median': std/median, #dimensionless            \n",
    "            'length': length,\n",
    "            'kurtosis': kurtosis, #already dimensionless by definition\n",
    "           }\n",
    "        \n",
    "    for i, val in enumerate(n):\n",
    "        features[f'binfrac_{i}'] = val\n",
    "    \n",
    "    return features"
   ]
  },
  {
   "cell_type": "code",
   "execution_count": 6,
   "metadata": {},
   "outputs": [
    {
     "data": {
      "image/png": "[encoded data removed]",
      "text/plain": [
       "<Figure size 432x288 with 1 Axes>"
      ]
     },
     "metadata": {
      "needs_background": "light"
     },
     "output_type": "display_data"
    }
   ],
   "source": [
    "bins = np.arange(0,100,10)\n",
    "\n",
    "df = []\n",
    "labels = []\n",
    "\n",
    "for k in data_ts: #slow, should parallelize\n",
    "    for elem in data_ts[k]:\n",
    "        df.append(featurize_stats(elem, bins))\n",
    "        labels.append(k)"
   ]
  },
  {
   "cell_type": "code",
   "execution_count": 7,
   "metadata": {},
   "outputs": [],
   "source": [
    "df = pd.DataFrame(df)\n",
    "df['label'] = labels"
   ]
  },
  {
   "cell_type": "code",
   "execution_count": 8,
   "metadata": {},
   "outputs": [
    {
     "name": "stdout",
     "output_type": "stream",
     "text": [
      "train size = (629, 14)\n",
      "Walk_             80\n",
      "Standup_chair     79\n",
      "Getup_bed         79\n",
      "Sitdown_chair     76\n",
      "Drink_glass       76\n",
      "Climb_stairs      73\n",
      "Pour_water        71\n",
      "Descend_stairs    26\n",
      "Comb_hair         22\n",
      "Liedown_bed       21\n",
      "Use_telephone     11\n",
      "Brush_teeth        9\n",
      "Eat_soup           3\n",
      "Eat_meat           3\n",
      "Name: label, dtype: int64\n",
      "Pour_water        29\n",
      "Climb_stairs      29\n",
      "Drink_glass       24\n",
      "Sitdown_chair     24\n",
      "Standup_chair     23\n",
      "Getup_bed         22\n",
      "Walk_             20\n",
      "Descend_stairs    16\n",
      "Comb_hair          9\n",
      "Liedown_bed        7\n",
      "Brush_teeth        3\n",
      "Eat_meat           2\n",
      "Use_telephone      2\n",
      "Name: label, dtype: int64\n"
     ]
    },
    {
     "name": "stderr",
     "output_type": "stream",
     "text": [
      "/home/mcliffor/anaconda3/envs/tf/lib/python3.6/site-packages/sklearn/model_selection/_split.py:2179: FutureWarning: From version 0.21, test_size will always complement train_size unless both are specified.\n",
      "  FutureWarning)\n"
     ]
    }
   ],
   "source": [
    "train_df, test_df = train_test_split(df, train_size=0.75)\n",
    "print(f'train size = {train_df.shape}')\n",
    "print(train_df['label'].value_counts())\n",
    "print(test_df['label'].value_counts())"
   ]
  },
  {
   "cell_type": "code",
   "execution_count": 9,
   "metadata": {},
   "outputs": [],
   "source": [
    "train_labels = np.array(train_df['label'])\n",
    "label_encoder = LabelEncoder()\n",
    "train_labels = label_encoder.fit_transform(train_labels)"
   ]
  },
  {
   "cell_type": "code",
   "execution_count": 10,
   "metadata": {},
   "outputs": [],
   "source": [
    "test_labels = np.array(test_df['label'])\n",
    "label_encoder = LabelEncoder()\n",
    "test_labels = label_encoder.fit_transform(test_labels)"
   ]
  },
  {
   "cell_type": "code",
   "execution_count": 11,
   "metadata": {},
   "outputs": [],
   "source": [
    "X_train = train_df.drop('label', axis=1)\n",
    "X_test = test_df.drop('label', axis=1)"
   ]
  },
  {
   "cell_type": "markdown",
   "metadata": {},
   "source": [
    "## TF Random Forest Model"
   ]
  },
  {
   "cell_type": "code",
   "execution_count": 12,
   "metadata": {},
   "outputs": [],
   "source": [
    "import tensorflow as tf\n",
    "from tensorflow.python.ops import resources\n",
    "from tensorflow.contrib.tensor_forest.python import tensor_forest\n",
    "\n",
    "import os\n",
    "os.environ[\"CUDA_VISIBLE_DEVICES\"] = \"\""
   ]
  },
  {
   "cell_type": "code",
   "execution_count": 13,
   "metadata": {},
   "outputs": [],
   "source": [
    "# Params \n",
    "\n",
    "num_steps = 37*2 # training steps\n",
    "batch_size = 17 # number of sampels per batch\n",
    "num_classes = 14 # number of classes to categorize \n",
    "num_features = 13 # size of the input data\n",
    "num_trees = 81 # number of trees in our forest\n",
    "max_nodes = 400 # maximum number of nodes (per tree ?)\n",
    "\n",
    "#Data\n",
    "\n",
    "X = tf.placeholder(tf.float32, shape=[None,num_features])\n",
    "# For random forest, labels must be integers (the class id)\n",
    "y = tf.placeholder(tf.int32, shape=[None])\n",
    "\n",
    "# Random Forest Parameters\n",
    "\n",
    "hparams = tensor_forest.ForestHParams(num_classes=num_classes,\n",
    "                                     num_features=num_features,\n",
    "                                     num_trees=num_trees,\n",
    "                                     max_nodes=max_nodes).fill()"
   ]
  },
  {
   "cell_type": "code",
   "execution_count": 14,
   "metadata": {},
   "outputs": [
    {
     "name": "stdout",
     "output_type": "stream",
     "text": [
      "INFO:tensorflow:Constructing forest with params = \n",
      "INFO:tensorflow:{'num_trees': 81, 'max_nodes': 400, 'bagging_fraction': 1.0, 'feature_bagging_fraction': 1.0, 'num_splits_to_consider': 10, 'max_fertile_nodes': 0, 'split_after_samples': 250, 'valid_leaf_threshold': 1, 'dominate_method': 'bootstrap', 'dominate_fraction': 0.99, 'model_name': 'all_dense', 'split_finish_name': 'basic', 'split_pruning_name': 'none', 'collate_examples': False, 'checkpoint_stats': False, 'use_running_stats_method': False, 'initialize_average_splits': False, 'inference_tree_paths': False, 'param_file': None, 'split_name': 'less_or_equal', 'early_finish_check_every_samples': 0, 'prune_every_samples': 0, 'num_classes': 14, 'num_features': 13, 'bagged_num_features': 13, 'bagged_features': None, 'regression': False, 'num_outputs': 1, 'num_output_columns': 15, 'base_random_seed': 0, 'leaf_model_type': 0, 'stats_model_type': 0, 'finish_type': 0, 'pruning_type': 0, 'split_type': 0}\n"
     ]
    }
   ],
   "source": [
    "forest_graph = tensor_forest.RandomForestGraphs(hparams)\n",
    "\n",
    "# Get training graph and loss\n",
    "train_op = forest_graph.training_graph(X,y)\n",
    "loss_op = forest_graph.training_loss(X,y)\n",
    "\n",
    "# Measure Accuracy\n",
    "infer_op, _, _ = forest_graph.inference_graph(X)\n",
    "correct_prediction = tf.equal(tf.argmax(infer_op,1), tf.cast(y, tf.int64))\n",
    "accuracy_op = tf.reduce_mean(tf.cast(correct_prediction,tf.float32))\n",
    "\n",
    "#Initilize variables\n",
    "init_vars = tf.group(tf.global_variables_initializer(),\n",
    "                     resources.initialize_resources(resources.shared_resources()))\n",
    "\n",
    "# Saver for serving later\n",
    "\n",
    "saver = tf.train.Saver()"
   ]
  },
  {
   "cell_type": "code",
   "execution_count": 15,
   "metadata": {},
   "outputs": [
    {
     "name": "stdout",
     "output_type": "stream",
     "text": [
      "Step 1, Loss: -1.000000, ACC: 0.441971\n",
      "Step 10, Loss: -26.061728, ACC: 0.724960\n",
      "Step 20, Loss: -59.197533, ACC: 0.785374\n",
      "Step 30, Loss: -92.925926, ACC: 0.828299\n",
      "Step 40, Loss: -125.246910, ACC: 0.863275\n",
      "Step 50, Loss: -155.592590, ACC: 0.893482\n",
      "Step 60, Loss: -183.790131, ACC: 0.928458\n",
      "Step 70, Loss: -212.629623, ACC: 0.949126\n",
      "WARNING:tensorflow:Issue encountered when serializing resources.\n",
      "Type is unsupported, or the types of the items don't match field type in CollectionDef. Note this is a warning and probably safe to ignore.\n",
      "'_Resource' object has no attribute 'name'\n",
      "Test Accuracy: 0.37142858\n"
     ]
    }
   ],
   "source": [
    "# Start session\n",
    "sess = tf.Session()\n",
    "\n",
    "# Run initializer\n",
    "sess.run(init_vars)\n",
    "\n",
    "# Train\n",
    "for i in range(1, num_steps + 1):\n",
    "    _, l = sess.run([train_op, loss_op], feed_dict={X: X_train, y: train_labels})\n",
    "    \n",
    "    if i % 10 == 0 or i == 1:\n",
    "        acc = sess.run(accuracy_op,feed_dict={X: X_train, y: train_labels})\n",
    "        print('Step %i, Loss: %f, ACC: %f' % (i, l, acc))\n",
    "        \n",
    "save_path = saver.save(sess, \"tmp/model.ckpt\")\n",
    "print(\"Test Accuracy:\", sess.run(accuracy_op, feed_dict={X: X_test, y: test_labels}))"
   ]
  },
  {
   "cell_type": "code",
   "execution_count": 16,
   "metadata": {},
   "outputs": [
    {
     "name": "stdout",
     "output_type": "stream",
     "text": [
      "INFO:tensorflow:Restoring parameters from tmp/model.ckpt\n",
      "Test Accuracy: 0.37142858\n"
     ]
    }
   ],
   "source": [
    "with tf.Session() as sess:\n",
    "    new_saver = tf.train.import_meta_graph(\"tmp/model.ckpt.meta\")\n",
    "    new_saver.restore(sess, tf.train.latest_checkpoint('tmp/'))\n",
    "    print(\"Test Accuracy:\", sess.run(accuracy_op, feed_dict={X: X_test, y: test_labels}))\n",
    "\n"
   ]
  }
 ],
 "metadata": {
  "kernelspec": {
   "display_name": "TF",
   "language": "python",
   "name": "tf"
  },
  "language_info": {
   "codemirror_mode": {
    "name": "ipython",
    "version": 3
   },
   "file_extension": ".py",
   "mimetype": "text/x-python",
   "name": "python",
   "nbconvert_exporter": "python",
   "pygments_lexer": "ipython3",
   "version": "3.6.8"
  },
  "varInspector": {
   "cols": {
    "lenName": 16,
    "lenType": 16,
    "lenVar": 40
   },
   "kernels_config": {
    "python": {
     "delete_cmd_postfix": "",
     "delete_cmd_prefix": "del ",
     "library": "var_list.py",
     "varRefreshCmd": "print(var_dic_list())"
    },
    "r": {
     "delete_cmd_postfix": ") ",
     "delete_cmd_prefix": "rm(",
     "library": "var_list.r",
     "varRefreshCmd": "cat(var_dic_list()) "
    }
   },
   "types_to_exclude": [
    "module",
    "function",
    "builtin_function_or_method",
    "instance",
    "_Feature"
   ],
   "window_display": false
  }
 },
 "nbformat": 4,
 "nbformat_minor": 2
}
